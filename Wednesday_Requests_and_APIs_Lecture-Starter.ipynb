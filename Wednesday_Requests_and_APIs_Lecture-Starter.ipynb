{
 "cells": [
  {
   "cell_type": "markdown",
   "metadata": {},
   "source": [
    "# Python Requests"
   ]
  },
  {
   "cell_type": "markdown",
   "metadata": {},
   "source": [
    "## Tasks Today:\n",
    "\n",
    "   \n",
    "1) <b>Requests package</b> <br>\n",
    " &nbsp;&nbsp;&nbsp;&nbsp; a) pip install <br>\n",
    " &nbsp;&nbsp;&nbsp;&nbsp; b) requests.get <br>\n",
    " &nbsp;&nbsp;&nbsp;&nbsp; c) Response object <br>\n",
    " &nbsp;&nbsp;&nbsp;&nbsp; d) .content and .text <br>\n",
    " &nbsp;&nbsp;&nbsp;&nbsp; e) JSON <br>  \n",
    "2) <b>Python Wrapper</b> <br>\n",
    " &nbsp;&nbsp;&nbsp;&nbsp; a) API key and base url<br>\n",
    " &nbsp;&nbsp;&nbsp;&nbsp; b) Creating a class for our requests<br>\n",
    " &nbsp;&nbsp;&nbsp;&nbsp; c) Private method for getting the response data <br>\n",
    " &nbsp;&nbsp;&nbsp;&nbsp; d) Public method for displaying the data <br>\n",
    " &nbsp;&nbsp;&nbsp;&nbsp; e) In-Class Exercise #1 - Add a method for getting the high and lows for the next 3 days <br>\n",
    "3) <b>Exercises</b> <br>\n",
    " &nbsp;&nbsp;&nbsp;&nbsp; a) Exercise #1 - Pokemon Wrapper  <br>"
   ]
  },
  {
   "cell_type": "markdown",
   "metadata": {},
   "source": [
    "### PyPI - Python Package Index\n",
    "The Python Package Index (PyPI) is a repository of software for the Python programming language.<br>\n",
    "<a href=\"https://pypi.org/\" target=\"_blank\">Python Package Index</a>"
   ]
  },
  {
   "cell_type": "code",
   "execution_count": 1,
   "metadata": {},
   "outputs": [
    {
     "name": "stdout",
     "output_type": "stream",
     "text": [
      "Python 3.9.13\n"
     ]
    }
   ],
   "source": [
    "!python --version"
   ]
  },
  {
   "cell_type": "code",
   "execution_count": 2,
   "metadata": {},
   "outputs": [
    {
     "name": "stdout",
     "output_type": "stream",
     "text": [
      "pip 22.2.2 from C:\\ProgramData\\Anaconda3\\lib\\site-packages\\pip (python 3.9)\n",
      "\n"
     ]
    }
   ],
   "source": [
    "!pip --version"
   ]
  },
  {
   "cell_type": "markdown",
   "metadata": {},
   "source": [
    "#### Faker \n",
    "<a href=\"https://pypi.org/project/Faker/\" target=\"_blank\">Fake Data Generator</a>"
   ]
  },
  {
   "cell_type": "code",
   "execution_count": 4,
   "metadata": {
    "scrolled": true
   },
   "outputs": [
    {
     "name": "stdout",
     "output_type": "stream",
     "text": [
      "Defaulting to user installation because normal site-packages is not writeable\n",
      "Requirement already satisfied: faker in c:\\users\\montr\\appdata\\roaming\\python\\python39\\site-packages (15.3.4)\n",
      "Requirement already satisfied: python-dateutil>=2.4 in c:\\programdata\\anaconda3\\lib\\site-packages (from faker) (2.8.2)\n",
      "Requirement already satisfied: six>=1.5 in c:\\programdata\\anaconda3\\lib\\site-packages (from python-dateutil>=2.4->faker) (1.16.0)\n"
     ]
    }
   ],
   "source": [
    "!pip install faker"
   ]
  },
  {
   "cell_type": "code",
   "execution_count": 5,
   "metadata": {},
   "outputs": [
    {
     "name": "stdout",
     "output_type": "stream",
     "text": [
      "<class 'faker.proxy.Faker'>\n"
     ]
    }
   ],
   "source": [
    "from faker import Faker\n",
    "\n",
    "print(Faker)"
   ]
  },
  {
   "cell_type": "code",
   "execution_count": 7,
   "metadata": {},
   "outputs": [
    {
     "data": {
      "text/plain": [
       "'Tonya Gregory'"
      ]
     },
     "execution_count": 7,
     "metadata": {},
     "output_type": "execute_result"
    }
   ],
   "source": [
    "fake = Faker()\n",
    "fake.name()"
   ]
  },
  {
   "cell_type": "code",
   "execution_count": 11,
   "metadata": {},
   "outputs": [
    {
     "data": {
      "text/plain": [
       "'08529 Michelle Crescent\\nNorth Lori, MN 28377'"
      ]
     },
     "execution_count": 11,
     "metadata": {},
     "output_type": "execute_result"
    }
   ],
   "source": [
    "fake.address()"
   ]
  },
  {
   "cell_type": "code",
   "execution_count": 8,
   "metadata": {},
   "outputs": [
    {
     "data": {
      "text/plain": [
       "'West Katelyn'"
      ]
     },
     "execution_count": 8,
     "metadata": {},
     "output_type": "execute_result"
    }
   ],
   "source": [
    "fake.city()"
   ]
  },
  {
   "cell_type": "code",
   "execution_count": 14,
   "metadata": {},
   "outputs": [
    {
     "data": {
      "text/plain": [
       "[{'first_name': 'Donald',\n",
       "  'last_name': 'Freeman',\n",
       "  'city': 'Sarahfort',\n",
       "  'email': 'donald.freeman@hotmail.com',\n",
       "  'occupation': {'company': 'Pitts-Huber', 'position': 'Financial manager'}},\n",
       " {'first_name': 'Brittney',\n",
       "  'last_name': 'Nolan',\n",
       "  'city': 'Port Joseph',\n",
       "  'email': 'brittney.nolan@hotmail.com',\n",
       "  'occupation': {'company': 'Anderson-Goodman', 'position': 'IT trainer'}},\n",
       " {'first_name': 'Kristy',\n",
       "  'last_name': 'Hoffman',\n",
       "  'city': 'Millerburgh',\n",
       "  'email': 'kristy.hoffman@gmail.com',\n",
       "  'occupation': {'company': 'Silva-Washington',\n",
       "   'position': 'Press photographer'}},\n",
       " {'first_name': 'Wayne',\n",
       "  'last_name': 'Stewart',\n",
       "  'city': 'East Sandratown',\n",
       "  'email': 'wayne.stewart@gmail.com',\n",
       "  'occupation': {'company': 'Reed PLC',\n",
       "   'position': 'Lecturer, higher education'}},\n",
       " {'first_name': 'Tammy',\n",
       "  'last_name': 'Myers',\n",
       "  'city': 'Port Eddie',\n",
       "  'email': 'tammy.myers@yahoo.com',\n",
       "  'occupation': {'company': 'King-Gomez',\n",
       "   'position': 'Chartered public finance accountant'}},\n",
       " {'first_name': 'Jacob',\n",
       "  'last_name': 'Trujillo',\n",
       "  'city': 'Lorihaven',\n",
       "  'email': 'jacob.trujillo@hotmail.com',\n",
       "  'occupation': {'company': 'Wagner, Griffin and Jensen',\n",
       "   'position': 'Osteopath'}},\n",
       " {'first_name': 'Lucas',\n",
       "  'last_name': 'Jackson',\n",
       "  'city': 'Johnburgh',\n",
       "  'email': 'lucas.jackson@hotmail.com',\n",
       "  'occupation': {'company': 'Taylor Ltd',\n",
       "   'position': 'Secondary school teacher'}},\n",
       " {'first_name': 'James',\n",
       "  'last_name': 'Davis',\n",
       "  'city': 'Sandrabury',\n",
       "  'email': 'james.davis@gmail.com',\n",
       "  'occupation': {'company': 'Griffith Inc',\n",
       "   'position': 'Civil Service administrator'}},\n",
       " {'first_name': 'Dylan',\n",
       "  'last_name': 'Evans',\n",
       "  'city': 'New Ericfort',\n",
       "  'email': 'dylan.evans@yahoo.com',\n",
       "  'occupation': {'company': 'Baird Ltd', 'position': 'Youth worker'}},\n",
       " {'first_name': 'Benjamin',\n",
       "  'last_name': 'Clark',\n",
       "  'city': 'New Michaelmouth',\n",
       "  'email': 'benjamin.clark@gmail.com',\n",
       "  'occupation': {'company': 'Brown, Leonard and Stewart',\n",
       "   'position': 'Scientist, product/process development'}}]"
      ]
     },
     "execution_count": 14,
     "metadata": {},
     "output_type": "execute_result"
    }
   ],
   "source": [
    "fake_data = []\n",
    "\n",
    "for _ in range(10):\n",
    "    first = fake.first_name()\n",
    "    last = fake.last_name()\n",
    "    person_info = {\n",
    "        'first_name': first,\n",
    "        'last_name': last,\n",
    "        'city': fake.city(),\n",
    "        'email': f\"{first.lower()}.{last.lower()}@{fake.free_email_domain()}\",\n",
    "        'occupation': {\n",
    "            'company': fake.company(),\n",
    "            'position': fake.job()\n",
    "        }\n",
    "    }\n",
    "    fake_data.append(person_info)\n",
    "    \n",
    "fake_data"
   ]
  },
  {
   "cell_type": "markdown",
   "metadata": {},
   "source": [
    "#### Warm Up\n",
    "Write a function that takes in a name (first or last) and returns the position and company name of that person. If the user is not found, return -1"
   ]
  },
  {
   "cell_type": "code",
   "execution_count": null,
   "metadata": {},
   "outputs": [],
   "source": [
    "# Example 1\n",
    "# get_person_info('Adam')\n",
    "# Output: 'Records manager at Odom, Harper, and Allen'\n",
    "\n",
    "# Example 2\n",
    "# get_person_info('Burns')\n",
    "# Output: 'Applications developer at Sanders-Ryan'\n",
    "\n",
    "# Example 3\n",
    "# get_person_info('Alice')\n",
    "# Output: -1"
   ]
  },
  {
   "cell_type": "code",
   "execution_count": 40,
   "metadata": {},
   "outputs": [],
   "source": [
    "def peeps_position(name):\n",
    "#     name = 'first_name'\n",
    "#      = 'last_name'\n",
    "\n",
    "    data = [\n",
    "        {\n",
    "            'first_name': 'Adam',\n",
    "            'last_name': 'Simpson',\n",
    "            'city': 'West Maureenland',\n",
    "            'email': 'adam.simpson@gmail.com',\n",
    "            'occupation': {\n",
    "                'company': 'Odom, Harper and Allen',\n",
    "                'position': 'Records manager'\n",
    "            }\n",
    "        },\n",
    "        {\n",
    "            'first_name': 'Robert',\n",
    "            'last_name': 'Miller',\n",
    "            'city': 'South Jaredburgh',\n",
    "            'email': 'robert.miller@gmail.org',\n",
    "            'occupation': {\n",
    "                'company': 'Roberts-Jackson',\n",
    "                'position': 'Media planner'\n",
    "            }\n",
    "        },\n",
    "        {\n",
    "            'first_name': 'Edwin',\n",
    "            'last_name': 'Johnson',\n",
    "            'city': 'Lake Kimberly',\n",
    "            'email': 'edwin.johnson@hotmail.com',\n",
    "            'occupation': {\n",
    "                'company': 'Hart, Jones and Malone',\n",
    "                'position': 'Therapist, speech and language'\n",
    "            }\n",
    "        },\n",
    "        {\n",
    "            'first_name': 'Gail',\n",
    "            'last_name': 'Castro',\n",
    "            'city': 'Brianchester',\n",
    "            'email': 'gail.castro@yahoo.com',\n",
    "            'occupation': {\n",
    "                'company': 'Duncan-Gallagher',\n",
    "                'position': 'Designer, multimedia'\n",
    "            }\n",
    "        },\n",
    "        {\n",
    "            'first_name': 'Andre',\n",
    "            'last_name': 'Burns',\n",
    "            'city': 'New Samuelside',\n",
    "            'email': 'andre.burns@gmail.com',\n",
    "            'occupation': {\n",
    "                'company': 'Sanders-Ryan',\n",
    "                'position': 'Applications developer'\n",
    "            }\n",
    "        },\n",
    "        {\n",
    "            'first_name': 'Nicole',\n",
    "            'last_name': 'Maynard',\n",
    "            'city': 'Teresaville',\n",
    "            'email': 'nicole.maynard@yahoo.com',\n",
    "            'occupation': {\n",
    "                'company': 'Hoffman, Reynolds and Wilson',\n",
    "                'position': 'Community education officer'\n",
    "            }\n",
    "        },\n",
    "        {\n",
    "            'first_name': 'Megan',\n",
    "            'last_name': 'Mcdonald',\n",
    "            'city': 'Walkerfurt',\n",
    "            'email': 'megan.mcdonald@yahoo.com',\n",
    "            'occupation': {\n",
    "                'company': 'King Ltd',\n",
    "                'position': 'Doctor, general practice'\n",
    "            }\n",
    "        },\n",
    "        {\n",
    "            'first_name': 'Stephen',\n",
    "            'last_name': 'Young',\n",
    "            'city': 'South Jeffrey',\n",
    "            'email': 'stephen.young@hotmail.com',\n",
    "            'occupation': {\n",
    "                'company': 'Hernandez LLC',\n",
    "                'position': 'Environmental manager'\n",
    "            }\n",
    "        },\n",
    "        {\n",
    "            'first_name': 'Daniel',\n",
    "            'last_name': 'Deleon',\n",
    "            'city': 'Yatesburgh',\n",
    "            'email': 'daniel.deleon@gmail.com',\n",
    "            'occupation': {\n",
    "                'company': 'Nelson-Wilson',\n",
    "                'position': 'Sports development officer'\n",
    "            }\n",
    "        },\n",
    "        {\n",
    "            'first_name': 'Patricia',\n",
    "            'last_name': 'Pacheco',\n",
    "            'city': 'South Donnamouth',\n",
    "            'email': 'patricia.pacheco@hotmail.com',\n",
    "            'occupation': {\n",
    "                'company': 'Giles, Williams and Jones',\n",
    "                'position': 'Theatre manager'\n",
    "            }\n",
    "        }\n",
    "    ]\n",
    "    \n",
    "    name = 'first_name'\n",
    "    for name in data:\n",
    "        if name in data:\n",
    "            return data[name]\n",
    "        else:\n",
    "            return -1\n",
    "\n"
   ]
  },
  {
   "cell_type": "code",
   "execution_count": 41,
   "metadata": {},
   "outputs": [
    {
     "ename": "TypeError",
     "evalue": "list indices must be integers or slices, not dict",
     "output_type": "error",
     "traceback": [
      "\u001b[1;31m---------------------------------------------------------------------------\u001b[0m",
      "\u001b[1;31mTypeError\u001b[0m                                 Traceback (most recent call last)",
      "\u001b[1;32m~\\AppData\\Local\\Temp\\ipykernel_7388\\3518660473.py\u001b[0m in \u001b[0;36m<module>\u001b[1;34m\u001b[0m\n\u001b[1;32m----> 1\u001b[1;33m \u001b[0mprint\u001b[0m\u001b[1;33m(\u001b[0m\u001b[0mpeeps_position\u001b[0m\u001b[1;33m(\u001b[0m\u001b[1;34m'Patricia'\u001b[0m\u001b[1;33m)\u001b[0m\u001b[1;33m)\u001b[0m\u001b[1;33m\u001b[0m\u001b[1;33m\u001b[0m\u001b[0m\n\u001b[0m",
      "\u001b[1;32m~\\AppData\\Local\\Temp\\ipykernel_7388\\2800468836.py\u001b[0m in \u001b[0;36mpeeps_position\u001b[1;34m(name)\u001b[0m\n\u001b[0;32m    109\u001b[0m     \u001b[1;32mfor\u001b[0m \u001b[0mname\u001b[0m \u001b[1;32min\u001b[0m \u001b[0mdata\u001b[0m\u001b[1;33m:\u001b[0m\u001b[1;33m\u001b[0m\u001b[1;33m\u001b[0m\u001b[0m\n\u001b[0;32m    110\u001b[0m         \u001b[1;32mif\u001b[0m \u001b[0mname\u001b[0m \u001b[1;32min\u001b[0m \u001b[0mdata\u001b[0m\u001b[1;33m:\u001b[0m\u001b[1;33m\u001b[0m\u001b[1;33m\u001b[0m\u001b[0m\n\u001b[1;32m--> 111\u001b[1;33m             \u001b[1;32mreturn\u001b[0m \u001b[0mdata\u001b[0m\u001b[1;33m[\u001b[0m\u001b[0mname\u001b[0m\u001b[1;33m]\u001b[0m\u001b[1;33m\u001b[0m\u001b[1;33m\u001b[0m\u001b[0m\n\u001b[0m\u001b[0;32m    112\u001b[0m         \u001b[1;32melse\u001b[0m\u001b[1;33m:\u001b[0m\u001b[1;33m\u001b[0m\u001b[1;33m\u001b[0m\u001b[0m\n\u001b[0;32m    113\u001b[0m             \u001b[1;32mreturn\u001b[0m \u001b[1;33m-\u001b[0m\u001b[1;36m1\u001b[0m\u001b[1;33m\u001b[0m\u001b[1;33m\u001b[0m\u001b[0m\n",
      "\u001b[1;31mTypeError\u001b[0m: list indices must be integers or slices, not dict"
     ]
    }
   ],
   "source": [
    "print(peeps_position('Patricia'))"
   ]
  },
  {
   "cell_type": "code",
   "execution_count": null,
   "metadata": {},
   "outputs": [],
   "source": []
  },
  {
   "cell_type": "code",
   "execution_count": null,
   "metadata": {},
   "outputs": [],
   "source": []
  },
  {
   "cell_type": "code",
   "execution_count": null,
   "metadata": {},
   "outputs": [],
   "source": []
  },
  {
   "cell_type": "markdown",
   "metadata": {},
   "source": [
    "### HTTP Methods & Status Codes\n",
    "<a href='https://developer.mozilla.org/en-US/docs/Web/HTTP/Methods' target=\"_blank\">Methods</a> & <a href=\"https://developer.mozilla.org/en-US/docs/Web/HTTP/Status\" target=\"_blank\">Status Codes</a>"
   ]
  },
  {
   "cell_type": "markdown",
   "metadata": {},
   "source": [
    "### Requests Package\n",
    "<a href='https://requests.readthedocs.io/en/latest/'>Docs</a>"
   ]
  },
  {
   "cell_type": "markdown",
   "metadata": {},
   "source": [
    "#### Install and import package"
   ]
  },
  {
   "cell_type": "code",
   "execution_count": 44,
   "metadata": {},
   "outputs": [
    {
     "name": "stdout",
     "output_type": "stream",
     "text": [
      "<module 'requests' from 'C:\\\\ProgramData\\\\Anaconda3\\\\lib\\\\site-packages\\\\requests\\\\__init__.py'>\n"
     ]
    }
   ],
   "source": [
    "import requests\n",
    "print(requests)"
   ]
  },
  {
   "cell_type": "code",
   "execution_count": null,
   "metadata": {},
   "outputs": [],
   "source": []
  },
  {
   "cell_type": "code",
   "execution_count": null,
   "metadata": {},
   "outputs": [],
   "source": []
  },
  {
   "cell_type": "markdown",
   "metadata": {},
   "source": [
    "#### requests get method"
   ]
  },
  {
   "cell_type": "code",
   "execution_count": 46,
   "metadata": {},
   "outputs": [
    {
     "name": "stdout",
     "output_type": "stream",
     "text": [
      "Help on function get in module requests.api:\n",
      "\n",
      "get(url, params=None, **kwargs)\n",
      "    Sends a GET request.\n",
      "    \n",
      "    :param url: URL for the new :class:`Request` object.\n",
      "    :param params: (optional) Dictionary, list of tuples or bytes to send\n",
      "        in the query string for the :class:`Request`.\n",
      "    :param \\*\\*kwargs: Optional arguments that ``request`` takes.\n",
      "    :return: :class:`Response <Response>` object\n",
      "    :rtype: requests.Response\n",
      "\n"
     ]
    }
   ],
   "source": [
    "help(requests.get)"
   ]
  },
  {
   "cell_type": "code",
   "execution_count": 50,
   "metadata": {},
   "outputs": [],
   "source": [
    "# https://requests.readthedocs.io/en/latest/user/quickstart/\n",
    "response = requests.get('https://www.codingtemple.com')\n",
    "\n",
    "# https://developer.mozilla.org/en-US/docs/Web/HTTP/Status"
   ]
  },
  {
   "cell_type": "code",
   "execution_count": null,
   "metadata": {},
   "outputs": [],
   "source": []
  },
  {
   "cell_type": "markdown",
   "metadata": {},
   "source": [
    "#### Response object"
   ]
  },
  {
   "cell_type": "code",
   "execution_count": 51,
   "metadata": {},
   "outputs": [
    {
     "name": "stdout",
     "output_type": "stream",
     "text": [
      "Help on class Response in module requests.models:\n",
      "\n",
      "class Response(builtins.object)\n",
      " |  The :class:`Response <Response>` object, which contains a\n",
      " |  server's response to an HTTP request.\n",
      " |  \n",
      " |  Methods defined here:\n",
      " |  \n",
      " |  __bool__(self)\n",
      " |      Returns True if :attr:`status_code` is less than 400.\n",
      " |      \n",
      " |      This attribute checks if the status code of the response is between\n",
      " |      400 and 600 to see if there was a client error or a server error. If\n",
      " |      the status code, is between 200 and 400, this will return True. This\n",
      " |      is **not** a check to see if the response code is ``200 OK``.\n",
      " |  \n",
      " |  __enter__(self)\n",
      " |  \n",
      " |  __exit__(self, *args)\n",
      " |  \n",
      " |  __getstate__(self)\n",
      " |  \n",
      " |  __init__(self)\n",
      " |      Initialize self.  See help(type(self)) for accurate signature.\n",
      " |  \n",
      " |  __iter__(self)\n",
      " |      Allows you to use a response as an iterator.\n",
      " |  \n",
      " |  __nonzero__(self)\n",
      " |      Returns True if :attr:`status_code` is less than 400.\n",
      " |      \n",
      " |      This attribute checks if the status code of the response is between\n",
      " |      400 and 600 to see if there was a client error or a server error. If\n",
      " |      the status code, is between 200 and 400, this will return True. This\n",
      " |      is **not** a check to see if the response code is ``200 OK``.\n",
      " |  \n",
      " |  __repr__(self)\n",
      " |      Return repr(self).\n",
      " |  \n",
      " |  __setstate__(self, state)\n",
      " |  \n",
      " |  close(self)\n",
      " |      Releases the connection back to the pool. Once this method has been\n",
      " |      called the underlying ``raw`` object must not be accessed again.\n",
      " |      \n",
      " |      *Note: Should not normally need to be called explicitly.*\n",
      " |  \n",
      " |  iter_content(self, chunk_size=1, decode_unicode=False)\n",
      " |      Iterates over the response data.  When stream=True is set on the\n",
      " |      request, this avoids reading the content at once into memory for\n",
      " |      large responses.  The chunk size is the number of bytes it should\n",
      " |      read into memory.  This is not necessarily the length of each item\n",
      " |      returned as decoding can take place.\n",
      " |      \n",
      " |      chunk_size must be of type int or None. A value of None will\n",
      " |      function differently depending on the value of `stream`.\n",
      " |      stream=True will read data as it arrives in whatever size the\n",
      " |      chunks are received. If stream=False, data is returned as\n",
      " |      a single chunk.\n",
      " |      \n",
      " |      If decode_unicode is True, content will be decoded using the best\n",
      " |      available encoding based on the response.\n",
      " |  \n",
      " |  iter_lines(self, chunk_size=512, decode_unicode=False, delimiter=None)\n",
      " |      Iterates over the response data, one line at a time.  When\n",
      " |      stream=True is set on the request, this avoids reading the\n",
      " |      content at once into memory for large responses.\n",
      " |      \n",
      " |      .. note:: This method is not reentrant safe.\n",
      " |  \n",
      " |  json(self, **kwargs)\n",
      " |      Returns the json-encoded content of a response, if any.\n",
      " |      \n",
      " |      :param \\*\\*kwargs: Optional arguments that ``json.loads`` takes.\n",
      " |      :raises requests.exceptions.JSONDecodeError: If the response body does not\n",
      " |          contain valid json.\n",
      " |  \n",
      " |  raise_for_status(self)\n",
      " |      Raises :class:`HTTPError`, if one occurred.\n",
      " |  \n",
      " |  ----------------------------------------------------------------------\n",
      " |  Readonly properties defined here:\n",
      " |  \n",
      " |  apparent_encoding\n",
      " |      The apparent encoding, provided by the charset_normalizer or chardet libraries.\n",
      " |  \n",
      " |  content\n",
      " |      Content of the response, in bytes.\n",
      " |  \n",
      " |  is_permanent_redirect\n",
      " |      True if this Response one of the permanent versions of redirect.\n",
      " |  \n",
      " |  is_redirect\n",
      " |      True if this Response is a well-formed HTTP redirect that could have\n",
      " |      been processed automatically (by :meth:`Session.resolve_redirects`).\n",
      " |  \n",
      " |  links\n",
      " |      Returns the parsed header links of the response, if any.\n",
      " |  \n",
      " |  next\n",
      " |      Returns a PreparedRequest for the next request in a redirect chain, if there is one.\n",
      " |  \n",
      " |  ok\n",
      " |      Returns True if :attr:`status_code` is less than 400, False if not.\n",
      " |      \n",
      " |      This attribute checks if the status code of the response is between\n",
      " |      400 and 600 to see if there was a client error or a server error. If\n",
      " |      the status code is between 200 and 400, this will return True. This\n",
      " |      is **not** a check to see if the response code is ``200 OK``.\n",
      " |  \n",
      " |  text\n",
      " |      Content of the response, in unicode.\n",
      " |      \n",
      " |      If Response.encoding is None, encoding will be guessed using\n",
      " |      ``charset_normalizer`` or ``chardet``.\n",
      " |      \n",
      " |      The encoding of the response content is determined based solely on HTTP\n",
      " |      headers, following RFC 2616 to the letter. If you can take advantage of\n",
      " |      non-HTTP knowledge to make a better guess at the encoding, you should\n",
      " |      set ``r.encoding`` appropriately before accessing this property.\n",
      " |  \n",
      " |  ----------------------------------------------------------------------\n",
      " |  Data descriptors defined here:\n",
      " |  \n",
      " |  __dict__\n",
      " |      dictionary for instance variables (if defined)\n",
      " |  \n",
      " |  __weakref__\n",
      " |      list of weak references to the object (if defined)\n",
      " |  \n",
      " |  ----------------------------------------------------------------------\n",
      " |  Data and other attributes defined here:\n",
      " |  \n",
      " |  __attrs__ = ['_content', 'status_code', 'headers', 'url', 'history', '...\n",
      "\n"
     ]
    }
   ],
   "source": [
    "help(type(response))"
   ]
  },
  {
   "cell_type": "code",
   "execution_count": null,
   "metadata": {
    "scrolled": true
   },
   "outputs": [],
   "source": []
  },
  {
   "cell_type": "code",
   "execution_count": null,
   "metadata": {},
   "outputs": [],
   "source": []
  },
  {
   "cell_type": "code",
   "execution_count": null,
   "metadata": {},
   "outputs": [],
   "source": []
  },
  {
   "cell_type": "markdown",
   "metadata": {},
   "source": [
    "#### .content"
   ]
  },
  {
   "cell_type": "code",
   "execution_count": null,
   "metadata": {
    "scrolled": true
   },
   "outputs": [],
   "source": []
  },
  {
   "cell_type": "markdown",
   "metadata": {},
   "source": [
    "#### .text"
   ]
  },
  {
   "cell_type": "code",
   "execution_count": null,
   "metadata": {
    "scrolled": true
   },
   "outputs": [],
   "source": []
  },
  {
   "cell_type": "markdown",
   "metadata": {},
   "source": [
    "#### JSON Response"
   ]
  },
  {
   "cell_type": "code",
   "execution_count": 52,
   "metadata": {},
   "outputs": [
    {
     "data": {
      "text/plain": [
       "<Response [200]>"
      ]
     },
     "execution_count": 52,
     "metadata": {},
     "output_type": "execute_result"
    }
   ],
   "source": [
    "poke_res = requests.get('https://pokeapi.co/api/v2/pokemon/ditto')\n",
    "\n",
    "poke_res"
   ]
  },
  {
   "cell_type": "code",
   "execution_count": 53,
   "metadata": {
    "scrolled": true
   },
   "outputs": [
    {
     "data": {
      "text/plain": [
       "True"
      ]
     },
     "execution_count": 53,
     "metadata": {},
     "output_type": "execute_result"
    }
   ],
   "source": [
    "poke_res.ok"
   ]
  },
  {
   "cell_type": "code",
   "execution_count": 56,
   "metadata": {},
   "outputs": [
    {
     "data": {
      "text/plain": [
       "{'abilities': [{'ability': {'name': 'limber',\n",
       "    'url': 'https://pokeapi.co/api/v2/ability/7/'},\n",
       "   'is_hidden': False,\n",
       "   'slot': 1},\n",
       "  {'ability': {'name': 'imposter',\n",
       "    'url': 'https://pokeapi.co/api/v2/ability/150/'},\n",
       "   'is_hidden': True,\n",
       "   'slot': 3}],\n",
       " 'base_experience': 101,\n",
       " 'forms': [{'name': 'ditto',\n",
       "   'url': 'https://pokeapi.co/api/v2/pokemon-form/132/'}],\n",
       " 'game_indices': [{'game_index': 76,\n",
       "   'version': {'name': 'red', 'url': 'https://pokeapi.co/api/v2/version/1/'}},\n",
       "  {'game_index': 76,\n",
       "   'version': {'name': 'blue', 'url': 'https://pokeapi.co/api/v2/version/2/'}},\n",
       "  {'game_index': 76,\n",
       "   'version': {'name': 'yellow',\n",
       "    'url': 'https://pokeapi.co/api/v2/version/3/'}},\n",
       "  {'game_index': 132,\n",
       "   'version': {'name': 'gold', 'url': 'https://pokeapi.co/api/v2/version/4/'}},\n",
       "  {'game_index': 132,\n",
       "   'version': {'name': 'silver',\n",
       "    'url': 'https://pokeapi.co/api/v2/version/5/'}},\n",
       "  {'game_index': 132,\n",
       "   'version': {'name': 'crystal',\n",
       "    'url': 'https://pokeapi.co/api/v2/version/6/'}},\n",
       "  {'game_index': 132,\n",
       "   'version': {'name': 'ruby', 'url': 'https://pokeapi.co/api/v2/version/7/'}},\n",
       "  {'game_index': 132,\n",
       "   'version': {'name': 'sapphire',\n",
       "    'url': 'https://pokeapi.co/api/v2/version/8/'}},\n",
       "  {'game_index': 132,\n",
       "   'version': {'name': 'emerald',\n",
       "    'url': 'https://pokeapi.co/api/v2/version/9/'}},\n",
       "  {'game_index': 132,\n",
       "   'version': {'name': 'firered',\n",
       "    'url': 'https://pokeapi.co/api/v2/version/10/'}},\n",
       "  {'game_index': 132,\n",
       "   'version': {'name': 'leafgreen',\n",
       "    'url': 'https://pokeapi.co/api/v2/version/11/'}},\n",
       "  {'game_index': 132,\n",
       "   'version': {'name': 'diamond',\n",
       "    'url': 'https://pokeapi.co/api/v2/version/12/'}},\n",
       "  {'game_index': 132,\n",
       "   'version': {'name': 'pearl',\n",
       "    'url': 'https://pokeapi.co/api/v2/version/13/'}},\n",
       "  {'game_index': 132,\n",
       "   'version': {'name': 'platinum',\n",
       "    'url': 'https://pokeapi.co/api/v2/version/14/'}},\n",
       "  {'game_index': 132,\n",
       "   'version': {'name': 'heartgold',\n",
       "    'url': 'https://pokeapi.co/api/v2/version/15/'}},\n",
       "  {'game_index': 132,\n",
       "   'version': {'name': 'soulsilver',\n",
       "    'url': 'https://pokeapi.co/api/v2/version/16/'}},\n",
       "  {'game_index': 132,\n",
       "   'version': {'name': 'black',\n",
       "    'url': 'https://pokeapi.co/api/v2/version/17/'}},\n",
       "  {'game_index': 132,\n",
       "   'version': {'name': 'white',\n",
       "    'url': 'https://pokeapi.co/api/v2/version/18/'}},\n",
       "  {'game_index': 132,\n",
       "   'version': {'name': 'black-2',\n",
       "    'url': 'https://pokeapi.co/api/v2/version/21/'}},\n",
       "  {'game_index': 132,\n",
       "   'version': {'name': 'white-2',\n",
       "    'url': 'https://pokeapi.co/api/v2/version/22/'}}],\n",
       " 'height': 3,\n",
       " 'held_items': [{'item': {'name': 'metal-powder',\n",
       "    'url': 'https://pokeapi.co/api/v2/item/234/'},\n",
       "   'version_details': [{'rarity': 5,\n",
       "     'version': {'name': 'ruby',\n",
       "      'url': 'https://pokeapi.co/api/v2/version/7/'}},\n",
       "    {'rarity': 5,\n",
       "     'version': {'name': 'sapphire',\n",
       "      'url': 'https://pokeapi.co/api/v2/version/8/'}},\n",
       "    {'rarity': 5,\n",
       "     'version': {'name': 'emerald',\n",
       "      'url': 'https://pokeapi.co/api/v2/version/9/'}},\n",
       "    {'rarity': 5,\n",
       "     'version': {'name': 'firered',\n",
       "      'url': 'https://pokeapi.co/api/v2/version/10/'}},\n",
       "    {'rarity': 5,\n",
       "     'version': {'name': 'leafgreen',\n",
       "      'url': 'https://pokeapi.co/api/v2/version/11/'}},\n",
       "    {'rarity': 5,\n",
       "     'version': {'name': 'diamond',\n",
       "      'url': 'https://pokeapi.co/api/v2/version/12/'}},\n",
       "    {'rarity': 5,\n",
       "     'version': {'name': 'pearl',\n",
       "      'url': 'https://pokeapi.co/api/v2/version/13/'}},\n",
       "    {'rarity': 5,\n",
       "     'version': {'name': 'platinum',\n",
       "      'url': 'https://pokeapi.co/api/v2/version/14/'}},\n",
       "    {'rarity': 5,\n",
       "     'version': {'name': 'heartgold',\n",
       "      'url': 'https://pokeapi.co/api/v2/version/15/'}},\n",
       "    {'rarity': 5,\n",
       "     'version': {'name': 'soulsilver',\n",
       "      'url': 'https://pokeapi.co/api/v2/version/16/'}},\n",
       "    {'rarity': 5,\n",
       "     'version': {'name': 'black',\n",
       "      'url': 'https://pokeapi.co/api/v2/version/17/'}},\n",
       "    {'rarity': 5,\n",
       "     'version': {'name': 'white',\n",
       "      'url': 'https://pokeapi.co/api/v2/version/18/'}},\n",
       "    {'rarity': 5,\n",
       "     'version': {'name': 'black-2',\n",
       "      'url': 'https://pokeapi.co/api/v2/version/21/'}},\n",
       "    {'rarity': 5,\n",
       "     'version': {'name': 'white-2',\n",
       "      'url': 'https://pokeapi.co/api/v2/version/22/'}},\n",
       "    {'rarity': 5,\n",
       "     'version': {'name': 'x', 'url': 'https://pokeapi.co/api/v2/version/23/'}},\n",
       "    {'rarity': 5,\n",
       "     'version': {'name': 'y', 'url': 'https://pokeapi.co/api/v2/version/24/'}},\n",
       "    {'rarity': 5,\n",
       "     'version': {'name': 'omega-ruby',\n",
       "      'url': 'https://pokeapi.co/api/v2/version/25/'}},\n",
       "    {'rarity': 5,\n",
       "     'version': {'name': 'alpha-sapphire',\n",
       "      'url': 'https://pokeapi.co/api/v2/version/26/'}},\n",
       "    {'rarity': 5,\n",
       "     'version': {'name': 'sun',\n",
       "      'url': 'https://pokeapi.co/api/v2/version/27/'}},\n",
       "    {'rarity': 5,\n",
       "     'version': {'name': 'moon',\n",
       "      'url': 'https://pokeapi.co/api/v2/version/28/'}},\n",
       "    {'rarity': 5,\n",
       "     'version': {'name': 'ultra-sun',\n",
       "      'url': 'https://pokeapi.co/api/v2/version/29/'}},\n",
       "    {'rarity': 5,\n",
       "     'version': {'name': 'ultra-moon',\n",
       "      'url': 'https://pokeapi.co/api/v2/version/30/'}}]},\n",
       "  {'item': {'name': 'quick-powder',\n",
       "    'url': 'https://pokeapi.co/api/v2/item/251/'},\n",
       "   'version_details': [{'rarity': 50,\n",
       "     'version': {'name': 'diamond',\n",
       "      'url': 'https://pokeapi.co/api/v2/version/12/'}},\n",
       "    {'rarity': 50,\n",
       "     'version': {'name': 'pearl',\n",
       "      'url': 'https://pokeapi.co/api/v2/version/13/'}},\n",
       "    {'rarity': 50,\n",
       "     'version': {'name': 'platinum',\n",
       "      'url': 'https://pokeapi.co/api/v2/version/14/'}},\n",
       "    {'rarity': 50,\n",
       "     'version': {'name': 'heartgold',\n",
       "      'url': 'https://pokeapi.co/api/v2/version/15/'}},\n",
       "    {'rarity': 50,\n",
       "     'version': {'name': 'soulsilver',\n",
       "      'url': 'https://pokeapi.co/api/v2/version/16/'}},\n",
       "    {'rarity': 50,\n",
       "     'version': {'name': 'black',\n",
       "      'url': 'https://pokeapi.co/api/v2/version/17/'}},\n",
       "    {'rarity': 50,\n",
       "     'version': {'name': 'white',\n",
       "      'url': 'https://pokeapi.co/api/v2/version/18/'}},\n",
       "    {'rarity': 50,\n",
       "     'version': {'name': 'black-2',\n",
       "      'url': 'https://pokeapi.co/api/v2/version/21/'}},\n",
       "    {'rarity': 50,\n",
       "     'version': {'name': 'white-2',\n",
       "      'url': 'https://pokeapi.co/api/v2/version/22/'}},\n",
       "    {'rarity': 50,\n",
       "     'version': {'name': 'x', 'url': 'https://pokeapi.co/api/v2/version/23/'}},\n",
       "    {'rarity': 50,\n",
       "     'version': {'name': 'y', 'url': 'https://pokeapi.co/api/v2/version/24/'}},\n",
       "    {'rarity': 50,\n",
       "     'version': {'name': 'omega-ruby',\n",
       "      'url': 'https://pokeapi.co/api/v2/version/25/'}},\n",
       "    {'rarity': 50,\n",
       "     'version': {'name': 'alpha-sapphire',\n",
       "      'url': 'https://pokeapi.co/api/v2/version/26/'}},\n",
       "    {'rarity': 50,\n",
       "     'version': {'name': 'sun',\n",
       "      'url': 'https://pokeapi.co/api/v2/version/27/'}},\n",
       "    {'rarity': 50,\n",
       "     'version': {'name': 'moon',\n",
       "      'url': 'https://pokeapi.co/api/v2/version/28/'}},\n",
       "    {'rarity': 50,\n",
       "     'version': {'name': 'ultra-sun',\n",
       "      'url': 'https://pokeapi.co/api/v2/version/29/'}},\n",
       "    {'rarity': 50,\n",
       "     'version': {'name': 'ultra-moon',\n",
       "      'url': 'https://pokeapi.co/api/v2/version/30/'}}]}],\n",
       " 'id': 132,\n",
       " 'is_default': True,\n",
       " 'location_area_encounters': 'https://pokeapi.co/api/v2/pokemon/132/encounters',\n",
       " 'moves': [{'move': {'name': 'transform',\n",
       "    'url': 'https://pokeapi.co/api/v2/move/144/'},\n",
       "   'version_group_details': [{'level_learned_at': 1,\n",
       "     'move_learn_method': {'name': 'level-up',\n",
       "      'url': 'https://pokeapi.co/api/v2/move-learn-method/1/'},\n",
       "     'version_group': {'name': 'red-blue',\n",
       "      'url': 'https://pokeapi.co/api/v2/version-group/1/'}},\n",
       "    {'level_learned_at': 1,\n",
       "     'move_learn_method': {'name': 'level-up',\n",
       "      'url': 'https://pokeapi.co/api/v2/move-learn-method/1/'},\n",
       "     'version_group': {'name': 'yellow',\n",
       "      'url': 'https://pokeapi.co/api/v2/version-group/2/'}},\n",
       "    {'level_learned_at': 1,\n",
       "     'move_learn_method': {'name': 'level-up',\n",
       "      'url': 'https://pokeapi.co/api/v2/move-learn-method/1/'},\n",
       "     'version_group': {'name': 'gold-silver',\n",
       "      'url': 'https://pokeapi.co/api/v2/version-group/3/'}},\n",
       "    {'level_learned_at': 1,\n",
       "     'move_learn_method': {'name': 'level-up',\n",
       "      'url': 'https://pokeapi.co/api/v2/move-learn-method/1/'},\n",
       "     'version_group': {'name': 'crystal',\n",
       "      'url': 'https://pokeapi.co/api/v2/version-group/4/'}},\n",
       "    {'level_learned_at': 1,\n",
       "     'move_learn_method': {'name': 'level-up',\n",
       "      'url': 'https://pokeapi.co/api/v2/move-learn-method/1/'},\n",
       "     'version_group': {'name': 'ruby-sapphire',\n",
       "      'url': 'https://pokeapi.co/api/v2/version-group/5/'}},\n",
       "    {'level_learned_at': 1,\n",
       "     'move_learn_method': {'name': 'level-up',\n",
       "      'url': 'https://pokeapi.co/api/v2/move-learn-method/1/'},\n",
       "     'version_group': {'name': 'emerald',\n",
       "      'url': 'https://pokeapi.co/api/v2/version-group/6/'}},\n",
       "    {'level_learned_at': 1,\n",
       "     'move_learn_method': {'name': 'level-up',\n",
       "      'url': 'https://pokeapi.co/api/v2/move-learn-method/1/'},\n",
       "     'version_group': {'name': 'firered-leafgreen',\n",
       "      'url': 'https://pokeapi.co/api/v2/version-group/7/'}},\n",
       "    {'level_learned_at': 1,\n",
       "     'move_learn_method': {'name': 'level-up',\n",
       "      'url': 'https://pokeapi.co/api/v2/move-learn-method/1/'},\n",
       "     'version_group': {'name': 'diamond-pearl',\n",
       "      'url': 'https://pokeapi.co/api/v2/version-group/8/'}},\n",
       "    {'level_learned_at': 1,\n",
       "     'move_learn_method': {'name': 'level-up',\n",
       "      'url': 'https://pokeapi.co/api/v2/move-learn-method/1/'},\n",
       "     'version_group': {'name': 'platinum',\n",
       "      'url': 'https://pokeapi.co/api/v2/version-group/9/'}},\n",
       "    {'level_learned_at': 1,\n",
       "     'move_learn_method': {'name': 'level-up',\n",
       "      'url': 'https://pokeapi.co/api/v2/move-learn-method/1/'},\n",
       "     'version_group': {'name': 'heartgold-soulsilver',\n",
       "      'url': 'https://pokeapi.co/api/v2/version-group/10/'}},\n",
       "    {'level_learned_at': 1,\n",
       "     'move_learn_method': {'name': 'level-up',\n",
       "      'url': 'https://pokeapi.co/api/v2/move-learn-method/1/'},\n",
       "     'version_group': {'name': 'black-white',\n",
       "      'url': 'https://pokeapi.co/api/v2/version-group/11/'}},\n",
       "    {'level_learned_at': 1,\n",
       "     'move_learn_method': {'name': 'level-up',\n",
       "      'url': 'https://pokeapi.co/api/v2/move-learn-method/1/'},\n",
       "     'version_group': {'name': 'colosseum',\n",
       "      'url': 'https://pokeapi.co/api/v2/version-group/12/'}},\n",
       "    {'level_learned_at': 1,\n",
       "     'move_learn_method': {'name': 'level-up',\n",
       "      'url': 'https://pokeapi.co/api/v2/move-learn-method/1/'},\n",
       "     'version_group': {'name': 'xd',\n",
       "      'url': 'https://pokeapi.co/api/v2/version-group/13/'}},\n",
       "    {'level_learned_at': 1,\n",
       "     'move_learn_method': {'name': 'level-up',\n",
       "      'url': 'https://pokeapi.co/api/v2/move-learn-method/1/'},\n",
       "     'version_group': {'name': 'black-2-white-2',\n",
       "      'url': 'https://pokeapi.co/api/v2/version-group/14/'}},\n",
       "    {'level_learned_at': 1,\n",
       "     'move_learn_method': {'name': 'level-up',\n",
       "      'url': 'https://pokeapi.co/api/v2/move-learn-method/1/'},\n",
       "     'version_group': {'name': 'x-y',\n",
       "      'url': 'https://pokeapi.co/api/v2/version-group/15/'}},\n",
       "    {'level_learned_at': 1,\n",
       "     'move_learn_method': {'name': 'level-up',\n",
       "      'url': 'https://pokeapi.co/api/v2/move-learn-method/1/'},\n",
       "     'version_group': {'name': 'omega-ruby-alpha-sapphire',\n",
       "      'url': 'https://pokeapi.co/api/v2/version-group/16/'}},\n",
       "    {'level_learned_at': 1,\n",
       "     'move_learn_method': {'name': 'level-up',\n",
       "      'url': 'https://pokeapi.co/api/v2/move-learn-method/1/'},\n",
       "     'version_group': {'name': 'sun-moon',\n",
       "      'url': 'https://pokeapi.co/api/v2/version-group/17/'}},\n",
       "    {'level_learned_at': 1,\n",
       "     'move_learn_method': {'name': 'level-up',\n",
       "      'url': 'https://pokeapi.co/api/v2/move-learn-method/1/'},\n",
       "     'version_group': {'name': 'ultra-sun-ultra-moon',\n",
       "      'url': 'https://pokeapi.co/api/v2/version-group/18/'}},\n",
       "    {'level_learned_at': 1,\n",
       "     'move_learn_method': {'name': 'level-up',\n",
       "      'url': 'https://pokeapi.co/api/v2/move-learn-method/1/'},\n",
       "     'version_group': {'name': 'lets-go-pikachu-lets-go-eevee',\n",
       "      'url': 'https://pokeapi.co/api/v2/version-group/19/'}},\n",
       "    {'level_learned_at': 1,\n",
       "     'move_learn_method': {'name': 'level-up',\n",
       "      'url': 'https://pokeapi.co/api/v2/move-learn-method/1/'},\n",
       "     'version_group': {'name': 'sword-shield',\n",
       "      'url': 'https://pokeapi.co/api/v2/version-group/20/'}}]}],\n",
       " 'name': 'ditto',\n",
       " 'order': 214,\n",
       " 'past_types': [],\n",
       " 'species': {'name': 'ditto',\n",
       "  'url': 'https://pokeapi.co/api/v2/pokemon-species/132/'},\n",
       " 'sprites': {'back_default': 'https://raw.githubusercontent.com/PokeAPI/sprites/master/sprites/pokemon/back/132.png',\n",
       "  'back_female': None,\n",
       "  'back_shiny': 'https://raw.githubusercontent.com/PokeAPI/sprites/master/sprites/pokemon/back/shiny/132.png',\n",
       "  'back_shiny_female': None,\n",
       "  'front_default': 'https://raw.githubusercontent.com/PokeAPI/sprites/master/sprites/pokemon/132.png',\n",
       "  'front_female': None,\n",
       "  'front_shiny': 'https://raw.githubusercontent.com/PokeAPI/sprites/master/sprites/pokemon/shiny/132.png',\n",
       "  'front_shiny_female': None,\n",
       "  'other': {'dream_world': {'front_default': 'https://raw.githubusercontent.com/PokeAPI/sprites/master/sprites/pokemon/other/dream-world/132.svg',\n",
       "    'front_female': None},\n",
       "   'home': {'front_default': 'https://raw.githubusercontent.com/PokeAPI/sprites/master/sprites/pokemon/other/home/132.png',\n",
       "    'front_female': None,\n",
       "    'front_shiny': 'https://raw.githubusercontent.com/PokeAPI/sprites/master/sprites/pokemon/other/home/shiny/132.png',\n",
       "    'front_shiny_female': None},\n",
       "   'official-artwork': {'front_default': 'https://raw.githubusercontent.com/PokeAPI/sprites/master/sprites/pokemon/other/official-artwork/132.png'}},\n",
       "  'versions': {'generation-i': {'red-blue': {'back_default': 'https://raw.githubusercontent.com/PokeAPI/sprites/master/sprites/pokemon/versions/generation-i/red-blue/back/132.png',\n",
       "     'back_gray': 'https://raw.githubusercontent.com/PokeAPI/sprites/master/sprites/pokemon/versions/generation-i/red-blue/back/gray/132.png',\n",
       "     'back_transparent': 'https://raw.githubusercontent.com/PokeAPI/sprites/master/sprites/pokemon/versions/generation-i/red-blue/transparent/back/132.png',\n",
       "     'front_default': 'https://raw.githubusercontent.com/PokeAPI/sprites/master/sprites/pokemon/versions/generation-i/red-blue/132.png',\n",
       "     'front_gray': 'https://raw.githubusercontent.com/PokeAPI/sprites/master/sprites/pokemon/versions/generation-i/red-blue/gray/132.png',\n",
       "     'front_transparent': 'https://raw.githubusercontent.com/PokeAPI/sprites/master/sprites/pokemon/versions/generation-i/red-blue/transparent/132.png'},\n",
       "    'yellow': {'back_default': 'https://raw.githubusercontent.com/PokeAPI/sprites/master/sprites/pokemon/versions/generation-i/yellow/back/132.png',\n",
       "     'back_gray': 'https://raw.githubusercontent.com/PokeAPI/sprites/master/sprites/pokemon/versions/generation-i/yellow/back/gray/132.png',\n",
       "     'back_transparent': 'https://raw.githubusercontent.com/PokeAPI/sprites/master/sprites/pokemon/versions/generation-i/yellow/transparent/back/132.png',\n",
       "     'front_default': 'https://raw.githubusercontent.com/PokeAPI/sprites/master/sprites/pokemon/versions/generation-i/yellow/132.png',\n",
       "     'front_gray': 'https://raw.githubusercontent.com/PokeAPI/sprites/master/sprites/pokemon/versions/generation-i/yellow/gray/132.png',\n",
       "     'front_transparent': 'https://raw.githubusercontent.com/PokeAPI/sprites/master/sprites/pokemon/versions/generation-i/yellow/transparent/132.png'}},\n",
       "   'generation-ii': {'crystal': {'back_default': 'https://raw.githubusercontent.com/PokeAPI/sprites/master/sprites/pokemon/versions/generation-ii/crystal/back/132.png',\n",
       "     'back_shiny': 'https://raw.githubusercontent.com/PokeAPI/sprites/master/sprites/pokemon/versions/generation-ii/crystal/back/shiny/132.png',\n",
       "     'back_shiny_transparent': 'https://raw.githubusercontent.com/PokeAPI/sprites/master/sprites/pokemon/versions/generation-ii/crystal/transparent/back/shiny/132.png',\n",
       "     'back_transparent': 'https://raw.githubusercontent.com/PokeAPI/sprites/master/sprites/pokemon/versions/generation-ii/crystal/transparent/back/132.png',\n",
       "     'front_default': 'https://raw.githubusercontent.com/PokeAPI/sprites/master/sprites/pokemon/versions/generation-ii/crystal/132.png',\n",
       "     'front_shiny': 'https://raw.githubusercontent.com/PokeAPI/sprites/master/sprites/pokemon/versions/generation-ii/crystal/shiny/132.png',\n",
       "     'front_shiny_transparent': 'https://raw.githubusercontent.com/PokeAPI/sprites/master/sprites/pokemon/versions/generation-ii/crystal/transparent/shiny/132.png',\n",
       "     'front_transparent': 'https://raw.githubusercontent.com/PokeAPI/sprites/master/sprites/pokemon/versions/generation-ii/crystal/transparent/132.png'},\n",
       "    'gold': {'back_default': 'https://raw.githubusercontent.com/PokeAPI/sprites/master/sprites/pokemon/versions/generation-ii/gold/back/132.png',\n",
       "     'back_shiny': 'https://raw.githubusercontent.com/PokeAPI/sprites/master/sprites/pokemon/versions/generation-ii/gold/back/shiny/132.png',\n",
       "     'front_default': 'https://raw.githubusercontent.com/PokeAPI/sprites/master/sprites/pokemon/versions/generation-ii/gold/132.png',\n",
       "     'front_shiny': 'https://raw.githubusercontent.com/PokeAPI/sprites/master/sprites/pokemon/versions/generation-ii/gold/shiny/132.png',\n",
       "     'front_transparent': 'https://raw.githubusercontent.com/PokeAPI/sprites/master/sprites/pokemon/versions/generation-ii/gold/transparent/132.png'},\n",
       "    'silver': {'back_default': 'https://raw.githubusercontent.com/PokeAPI/sprites/master/sprites/pokemon/versions/generation-ii/silver/back/132.png',\n",
       "     'back_shiny': 'https://raw.githubusercontent.com/PokeAPI/sprites/master/sprites/pokemon/versions/generation-ii/silver/back/shiny/132.png',\n",
       "     'front_default': 'https://raw.githubusercontent.com/PokeAPI/sprites/master/sprites/pokemon/versions/generation-ii/silver/132.png',\n",
       "     'front_shiny': 'https://raw.githubusercontent.com/PokeAPI/sprites/master/sprites/pokemon/versions/generation-ii/silver/shiny/132.png',\n",
       "     'front_transparent': 'https://raw.githubusercontent.com/PokeAPI/sprites/master/sprites/pokemon/versions/generation-ii/silver/transparent/132.png'}},\n",
       "   'generation-iii': {'emerald': {'front_default': 'https://raw.githubusercontent.com/PokeAPI/sprites/master/sprites/pokemon/versions/generation-iii/emerald/132.png',\n",
       "     'front_shiny': 'https://raw.githubusercontent.com/PokeAPI/sprites/master/sprites/pokemon/versions/generation-iii/emerald/shiny/132.png'},\n",
       "    'firered-leafgreen': {'back_default': 'https://raw.githubusercontent.com/PokeAPI/sprites/master/sprites/pokemon/versions/generation-iii/firered-leafgreen/back/132.png',\n",
       "     'back_shiny': 'https://raw.githubusercontent.com/PokeAPI/sprites/master/sprites/pokemon/versions/generation-iii/firered-leafgreen/back/shiny/132.png',\n",
       "     'front_default': 'https://raw.githubusercontent.com/PokeAPI/sprites/master/sprites/pokemon/versions/generation-iii/firered-leafgreen/132.png',\n",
       "     'front_shiny': 'https://raw.githubusercontent.com/PokeAPI/sprites/master/sprites/pokemon/versions/generation-iii/firered-leafgreen/shiny/132.png'},\n",
       "    'ruby-sapphire': {'back_default': 'https://raw.githubusercontent.com/PokeAPI/sprites/master/sprites/pokemon/versions/generation-iii/ruby-sapphire/back/132.png',\n",
       "     'back_shiny': 'https://raw.githubusercontent.com/PokeAPI/sprites/master/sprites/pokemon/versions/generation-iii/ruby-sapphire/back/shiny/132.png',\n",
       "     'front_default': 'https://raw.githubusercontent.com/PokeAPI/sprites/master/sprites/pokemon/versions/generation-iii/ruby-sapphire/132.png',\n",
       "     'front_shiny': 'https://raw.githubusercontent.com/PokeAPI/sprites/master/sprites/pokemon/versions/generation-iii/ruby-sapphire/shiny/132.png'}},\n",
       "   'generation-iv': {'diamond-pearl': {'back_default': 'https://raw.githubusercontent.com/PokeAPI/sprites/master/sprites/pokemon/versions/generation-iv/diamond-pearl/back/132.png',\n",
       "     'back_female': None,\n",
       "     'back_shiny': 'https://raw.githubusercontent.com/PokeAPI/sprites/master/sprites/pokemon/versions/generation-iv/diamond-pearl/back/shiny/132.png',\n",
       "     'back_shiny_female': None,\n",
       "     'front_default': 'https://raw.githubusercontent.com/PokeAPI/sprites/master/sprites/pokemon/versions/generation-iv/diamond-pearl/132.png',\n",
       "     'front_female': None,\n",
       "     'front_shiny': 'https://raw.githubusercontent.com/PokeAPI/sprites/master/sprites/pokemon/versions/generation-iv/diamond-pearl/shiny/132.png',\n",
       "     'front_shiny_female': None},\n",
       "    'heartgold-soulsilver': {'back_default': 'https://raw.githubusercontent.com/PokeAPI/sprites/master/sprites/pokemon/versions/generation-iv/heartgold-soulsilver/back/132.png',\n",
       "     'back_female': None,\n",
       "     'back_shiny': 'https://raw.githubusercontent.com/PokeAPI/sprites/master/sprites/pokemon/versions/generation-iv/heartgold-soulsilver/back/shiny/132.png',\n",
       "     'back_shiny_female': None,\n",
       "     'front_default': 'https://raw.githubusercontent.com/PokeAPI/sprites/master/sprites/pokemon/versions/generation-iv/heartgold-soulsilver/132.png',\n",
       "     'front_female': None,\n",
       "     'front_shiny': 'https://raw.githubusercontent.com/PokeAPI/sprites/master/sprites/pokemon/versions/generation-iv/heartgold-soulsilver/shiny/132.png',\n",
       "     'front_shiny_female': None},\n",
       "    'platinum': {'back_default': 'https://raw.githubusercontent.com/PokeAPI/sprites/master/sprites/pokemon/versions/generation-iv/platinum/back/132.png',\n",
       "     'back_female': None,\n",
       "     'back_shiny': 'https://raw.githubusercontent.com/PokeAPI/sprites/master/sprites/pokemon/versions/generation-iv/platinum/back/shiny/132.png',\n",
       "     'back_shiny_female': None,\n",
       "     'front_default': 'https://raw.githubusercontent.com/PokeAPI/sprites/master/sprites/pokemon/versions/generation-iv/platinum/132.png',\n",
       "     'front_female': None,\n",
       "     'front_shiny': 'https://raw.githubusercontent.com/PokeAPI/sprites/master/sprites/pokemon/versions/generation-iv/platinum/shiny/132.png',\n",
       "     'front_shiny_female': None}},\n",
       "   'generation-v': {'black-white': {'animated': {'back_default': 'https://raw.githubusercontent.com/PokeAPI/sprites/master/sprites/pokemon/versions/generation-v/black-white/animated/back/132.gif',\n",
       "      'back_female': None,\n",
       "      'back_shiny': 'https://raw.githubusercontent.com/PokeAPI/sprites/master/sprites/pokemon/versions/generation-v/black-white/animated/back/shiny/132.gif',\n",
       "      'back_shiny_female': None,\n",
       "      'front_default': 'https://raw.githubusercontent.com/PokeAPI/sprites/master/sprites/pokemon/versions/generation-v/black-white/animated/132.gif',\n",
       "      'front_female': None,\n",
       "      'front_shiny': 'https://raw.githubusercontent.com/PokeAPI/sprites/master/sprites/pokemon/versions/generation-v/black-white/animated/shiny/132.gif',\n",
       "      'front_shiny_female': None},\n",
       "     'back_default': 'https://raw.githubusercontent.com/PokeAPI/sprites/master/sprites/pokemon/versions/generation-v/black-white/back/132.png',\n",
       "     'back_female': None,\n",
       "     'back_shiny': 'https://raw.githubusercontent.com/PokeAPI/sprites/master/sprites/pokemon/versions/generation-v/black-white/back/shiny/132.png',\n",
       "     'back_shiny_female': None,\n",
       "     'front_default': 'https://raw.githubusercontent.com/PokeAPI/sprites/master/sprites/pokemon/versions/generation-v/black-white/132.png',\n",
       "     'front_female': None,\n",
       "     'front_shiny': 'https://raw.githubusercontent.com/PokeAPI/sprites/master/sprites/pokemon/versions/generation-v/black-white/shiny/132.png',\n",
       "     'front_shiny_female': None}},\n",
       "   'generation-vi': {'omegaruby-alphasapphire': {'front_default': 'https://raw.githubusercontent.com/PokeAPI/sprites/master/sprites/pokemon/versions/generation-vi/omegaruby-alphasapphire/132.png',\n",
       "     'front_female': None,\n",
       "     'front_shiny': 'https://raw.githubusercontent.com/PokeAPI/sprites/master/sprites/pokemon/versions/generation-vi/omegaruby-alphasapphire/shiny/132.png',\n",
       "     'front_shiny_female': None},\n",
       "    'x-y': {'front_default': 'https://raw.githubusercontent.com/PokeAPI/sprites/master/sprites/pokemon/versions/generation-vi/x-y/132.png',\n",
       "     'front_female': None,\n",
       "     'front_shiny': 'https://raw.githubusercontent.com/PokeAPI/sprites/master/sprites/pokemon/versions/generation-vi/x-y/shiny/132.png',\n",
       "     'front_shiny_female': None}},\n",
       "   'generation-vii': {'icons': {'front_default': 'https://raw.githubusercontent.com/PokeAPI/sprites/master/sprites/pokemon/versions/generation-vii/icons/132.png',\n",
       "     'front_female': None},\n",
       "    'ultra-sun-ultra-moon': {'front_default': 'https://raw.githubusercontent.com/PokeAPI/sprites/master/sprites/pokemon/versions/generation-vii/ultra-sun-ultra-moon/132.png',\n",
       "     'front_female': None,\n",
       "     'front_shiny': 'https://raw.githubusercontent.com/PokeAPI/sprites/master/sprites/pokemon/versions/generation-vii/ultra-sun-ultra-moon/shiny/132.png',\n",
       "     'front_shiny_female': None}},\n",
       "   'generation-viii': {'icons': {'front_default': 'https://raw.githubusercontent.com/PokeAPI/sprites/master/sprites/pokemon/versions/generation-viii/icons/132.png',\n",
       "     'front_female': None}}}},\n",
       " 'stats': [{'base_stat': 48,\n",
       "   'effort': 1,\n",
       "   'stat': {'name': 'hp', 'url': 'https://pokeapi.co/api/v2/stat/1/'}},\n",
       "  {'base_stat': 48,\n",
       "   'effort': 0,\n",
       "   'stat': {'name': 'attack', 'url': 'https://pokeapi.co/api/v2/stat/2/'}},\n",
       "  {'base_stat': 48,\n",
       "   'effort': 0,\n",
       "   'stat': {'name': 'defense', 'url': 'https://pokeapi.co/api/v2/stat/3/'}},\n",
       "  {'base_stat': 48,\n",
       "   'effort': 0,\n",
       "   'stat': {'name': 'special-attack',\n",
       "    'url': 'https://pokeapi.co/api/v2/stat/4/'}},\n",
       "  {'base_stat': 48,\n",
       "   'effort': 0,\n",
       "   'stat': {'name': 'special-defense',\n",
       "    'url': 'https://pokeapi.co/api/v2/stat/5/'}},\n",
       "  {'base_stat': 48,\n",
       "   'effort': 0,\n",
       "   'stat': {'name': 'speed', 'url': 'https://pokeapi.co/api/v2/stat/6/'}}],\n",
       " 'types': [{'slot': 1,\n",
       "   'type': {'name': 'normal', 'url': 'https://pokeapi.co/api/v2/type/1/'}}],\n",
       " 'weight': 40}"
      ]
     },
     "execution_count": 56,
     "metadata": {},
     "output_type": "execute_result"
    }
   ],
   "source": [
    "data = poke_res.json()\n",
    "data"
   ]
  },
  {
   "cell_type": "code",
   "execution_count": 57,
   "metadata": {
    "scrolled": true
   },
   "outputs": [
    {
     "data": {
      "text/plain": [
       "[{'ability': {'name': 'limber', 'url': 'https://pokeapi.co/api/v2/ability/7/'},\n",
       "  'is_hidden': False,\n",
       "  'slot': 1},\n",
       " {'ability': {'name': 'imposter',\n",
       "   'url': 'https://pokeapi.co/api/v2/ability/150/'},\n",
       "  'is_hidden': True,\n",
       "  'slot': 3}]"
      ]
     },
     "execution_count": 57,
     "metadata": {},
     "output_type": "execute_result"
    }
   ],
   "source": [
    "data.get('abilities')"
   ]
  },
  {
   "cell_type": "code",
   "execution_count": null,
   "metadata": {
    "scrolled": true
   },
   "outputs": [],
   "source": []
  },
  {
   "cell_type": "code",
   "execution_count": null,
   "metadata": {
    "scrolled": true
   },
   "outputs": [],
   "source": []
  },
  {
   "cell_type": "code",
   "execution_count": null,
   "metadata": {},
   "outputs": [],
   "source": []
  },
  {
   "cell_type": "code",
   "execution_count": null,
   "metadata": {},
   "outputs": [],
   "source": []
  },
  {
   "cell_type": "markdown",
   "metadata": {},
   "source": [
    "### Python Wrappers"
   ]
  },
  {
   "cell_type": "code",
   "execution_count": null,
   "metadata": {},
   "outputs": [],
   "source": [
    "# https://www.weatherapi.com/docs/"
   ]
  },
  {
   "cell_type": "code",
   "execution_count": 63,
   "metadata": {
    "scrolled": true
   },
   "outputs": [
    {
     "name": "stdout",
     "output_type": "stream",
     "text": [
      "http://api.weatherapi.com/v1/current.json?key=fae042a4c8144834bd7200600221412&q=Norfolk\n"
     ]
    }
   ],
   "source": [
    "base_url = 'http://api.weatherapi.com/v1'\n",
    "api_method = '/current.json'\n",
    "api_key = 'fae042a4c8144834bd7200600221412'\n",
    "city = 'Norfolk'\n",
    "\n",
    "api_url = f\"{base_url}{api_method}?key={api_key}&q={city}\"\n",
    "print(api_url)"
   ]
  },
  {
   "cell_type": "code",
   "execution_count": 65,
   "metadata": {
    "scrolled": true
   },
   "outputs": [
    {
     "data": {
      "text/plain": [
       "{'location': {'name': 'Norfolk',\n",
       "  'region': 'Virginia',\n",
       "  'country': 'United States of America',\n",
       "  'lat': 36.85,\n",
       "  'lon': -76.29,\n",
       "  'tz_id': 'America/New_York',\n",
       "  'localtime_epoch': 1671049174,\n",
       "  'localtime': '2022-12-14 15:19'},\n",
       " 'current': {'last_updated_epoch': 1671048900,\n",
       "  'last_updated': '2022-12-14 15:15',\n",
       "  'temp_c': 7.2,\n",
       "  'temp_f': 45.0,\n",
       "  'is_day': 1,\n",
       "  'condition': {'text': 'Partly cloudy',\n",
       "   'icon': '//cdn.weatherapi.com/weather/64x64/day/116.png',\n",
       "   'code': 1003},\n",
       "  'wind_mph': 4.3,\n",
       "  'wind_kph': 6.8,\n",
       "  'wind_degree': 280,\n",
       "  'wind_dir': 'W',\n",
       "  'pressure_mb': 1022.0,\n",
       "  'pressure_in': 30.18,\n",
       "  'precip_mm': 0.0,\n",
       "  'precip_in': 0.0,\n",
       "  'humidity': 60,\n",
       "  'cloud': 75,\n",
       "  'feelslike_c': 5.9,\n",
       "  'feelslike_f': 42.7,\n",
       "  'vis_km': 16.0,\n",
       "  'vis_miles': 9.0,\n",
       "  'uv': 3.0,\n",
       "  'gust_mph': 5.4,\n",
       "  'gust_kph': 8.6}}"
      ]
     },
     "execution_count": 65,
     "metadata": {},
     "output_type": "execute_result"
    }
   ],
   "source": [
    "res = requests.get(api_url)\n",
    "weather_data = res.json()\n",
    "weather_data"
   ]
  },
  {
   "cell_type": "code",
   "execution_count": 66,
   "metadata": {
    "scrolled": false
   },
   "outputs": [
    {
     "name": "stdout",
     "output_type": "stream",
     "text": [
      "45.0\n",
      "42.7\n",
      "Partly cloudy\n"
     ]
    }
   ],
   "source": [
    "current_temp = weather_data['current']['temp_f']\n",
    "print(current_temp)\n",
    "feels_like = weather_data['current']['feelslike_f']\n",
    "print(feels_like)\n",
    "current_condition = weather_data['current']['condition']['text']\n",
    "print(current_condition)"
   ]
  },
  {
   "cell_type": "code",
   "execution_count": 9,
   "metadata": {},
   "outputs": [],
   "source": [
    "class WeatherAPI:\n",
    "    base_url = 'http://api.weatherapi.com/v1'\n",
    "    \n",
    "    def __init__(self, api_key):\n",
    "        self.api_key = api_key\n",
    "        \n",
    "    def _get(self, city, api_method, **params):\n",
    "        request_url = f\"{self.base_url}{api_method}?key={self.api_key}&q={city}\"\n",
    "        if params:\n",
    "            for key, value in params.items():\n",
    "                request_url += f\"&{key}={value}\"\n",
    "        weather_response = requests.get(request_url)\n",
    "        if weather_response.ok:\n",
    "            return weather_response.json()\n",
    "        else:\n",
    "            print('There was an error')\n",
    "        \n",
    "    def get_current_weather(self, city):\n",
    "        weather_data = self._get(city, '/current.json')\n",
    "        city_name = weather_data['location']['name']\n",
    "        region_name = weather_data['location']['region']\n",
    "        current_temp = weather_data['current']['temp_f']\n",
    "        feels_like = weather_data['current']['feelslike_f']\n",
    "        current_condition = weather_data['current']['condition']['text']\n",
    "        city_weather = CityWeather(current_temp, feels_like, current_condition, city_name, region_name)\n",
    "        return city_weather\n",
    "            \n",
    "        \n",
    "class CityWeather:\n",
    "    def __init__(self, current, feels_like, condition, city_name, region_name):\n",
    "        self.current = current\n",
    "        self.feels_like = feels_like\n",
    "        self.condition = condition\n",
    "        self.city = city_name\n",
    "        self.region = region_name\n",
    "        \n",
    "    def __str__(self):\n",
    "        degree_sign = u'\\N{DEGREE SIGN}'\n",
    "        return f\"It is currently {self.condition} and {self.current}{degree_sign}F in {self.city}, {self.region}. \\\n",
    "It feels like {self.feels_like}{degree_sign}F\"\n",
    "        \n",
    "    \n",
    "client = WeatherAPI('1ac9901266fa4ab48f9185441220510')\n",
    "my_city = client.get_current_weather('Newport News')"
   ]
  },
  {
   "cell_type": "code",
   "execution_count": 71,
   "metadata": {},
   "outputs": [
    {
     "name": "stdout",
     "output_type": "stream",
     "text": [
      "fae042a4c8144834bd7200600221412\n",
      "http://api.weatherapi.com/v1\n"
     ]
    }
   ],
   "source": [
    "client = WeatherAPI('fae042a4c8144834bd7200600221412')\n",
    "print(client.api_key)\n",
    "print(client.base_url)"
   ]
  },
  {
   "cell_type": "code",
   "execution_count": 72,
   "metadata": {},
   "outputs": [
    {
     "data": {
      "text/plain": [
       "{'location': {'name': 'Newport News',\n",
       "  'region': 'Virginia',\n",
       "  'country': 'United States of America',\n",
       "  'lat': 36.98,\n",
       "  'lon': -76.43,\n",
       "  'tz_id': 'America/New_York',\n",
       "  'localtime_epoch': 1671051900,\n",
       "  'localtime': '2022-12-14 16:05'},\n",
       " 'current': {'last_updated_epoch': 1671051600,\n",
       "  'last_updated': '2022-12-14 16:00',\n",
       "  'temp_c': 7.2,\n",
       "  'temp_f': 45.0,\n",
       "  'is_day': 1,\n",
       "  'condition': {'text': 'Partly cloudy',\n",
       "   'icon': '//cdn.weatherapi.com/weather/64x64/day/116.png',\n",
       "   'code': 1003},\n",
       "  'wind_mph': 4.3,\n",
       "  'wind_kph': 6.8,\n",
       "  'wind_degree': 310,\n",
       "  'wind_dir': 'NW',\n",
       "  'pressure_mb': 1021.0,\n",
       "  'pressure_in': 30.16,\n",
       "  'precip_mm': 0.0,\n",
       "  'precip_in': 0.0,\n",
       "  'humidity': 51,\n",
       "  'cloud': 50,\n",
       "  'feelslike_c': 7.1,\n",
       "  'feelslike_f': 44.9,\n",
       "  'vis_km': 16.0,\n",
       "  'vis_miles': 9.0,\n",
       "  'uv': 3.0,\n",
       "  'gust_mph': 1.1,\n",
       "  'gust_kph': 1.8}}"
      ]
     },
     "execution_count": 72,
     "metadata": {},
     "output_type": "execute_result"
    }
   ],
   "source": [
    "client._get('newport news', '/current.json')"
   ]
  },
  {
   "cell_type": "code",
   "execution_count": 10,
   "metadata": {},
   "outputs": [
    {
     "name": "stdout",
     "output_type": "stream",
     "text": [
      "It is currently Partly cloudy and 43.2°F in Newport News, Virginia. It feels like 42.9°F\n"
     ]
    }
   ],
   "source": [
    "print(my_city)"
   ]
  },
  {
   "cell_type": "markdown",
   "metadata": {},
   "source": [
    "# Exercise"
   ]
  },
  {
   "cell_type": "markdown",
   "metadata": {},
   "source": [
    "#### Pokemon API Wrapper"
   ]
  },
  {
   "cell_type": "markdown",
   "metadata": {},
   "source": [
    "Create a python wrapper for the Pokemon API. It should take in a pokemon name and display the pokemon with its height and weight"
   ]
  },
  {
   "cell_type": "code",
   "execution_count": 8,
   "metadata": {},
   "outputs": [
    {
     "name": "stdout",
     "output_type": "stream",
     "text": [
      "https://pokeapi.co/api/v2/pokemon/zapdos\n"
     ]
    }
   ],
   "source": [
    "import requests\n",
    "\n",
    "base_url = 'https://pokeapi.co/'\n",
    "api_method = 'api/v2/pokemon/'\n",
    "pokename = 'zapdos'\n",
    "\n",
    "api_url = f\"{base_url}{api_method}{pokename}\"\n",
    "print(api_url)"
   ]
  },
  {
   "cell_type": "code",
   "execution_count": 9,
   "metadata": {},
   "outputs": [
    {
     "data": {
      "text/plain": [
       "'zapdos'"
      ]
     },
     "execution_count": 9,
     "metadata": {},
     "output_type": "execute_result"
    }
   ],
   "source": [
    "res = requests.get(api_url)\n",
    "poke_data = res.json()\n",
    "\n",
    "poke_data['name']"
   ]
  },
  {
   "cell_type": "code",
   "execution_count": 10,
   "metadata": {},
   "outputs": [
    {
     "name": "stdout",
     "output_type": "stream",
     "text": [
      "16\n",
      "526\n"
     ]
    }
   ],
   "source": [
    "height = poke_data['height']\n",
    "print(height)\n",
    "weight = poke_data['weight']\n",
    "print(weight)"
   ]
  },
  {
   "cell_type": "code",
   "execution_count": 11,
   "metadata": {},
   "outputs": [
    {
     "name": "stdout",
     "output_type": "stream",
     "text": [
      "Zapdos has a height of 16 and a weight of 526.\n"
     ]
    }
   ],
   "source": [
    "class PokemonAPI:\n",
    "    \n",
    "    base_url = 'https://pokeapi.co/'\n",
    "    api_method = 'api/v2/pokemon/'\n",
    "    \n",
    "    def __init__(self, poke_name):\n",
    "        self.poke_name = poke_name\n",
    "        self.api_method = api_method\n",
    "    \n",
    "    \n",
    "    def poke_info(self):\n",
    "    \n",
    "        res = requests.get(f\"{self.base_url}{self.api_method}{self.poke_name}\")\n",
    "        poke_data = res.json()\n",
    "        self.height = poke_data[\"height\"]\n",
    "        self.weight = poke_data[\"weight\"]\n",
    "        \n",
    "        return f\"{self.poke_name.title()} has a height of {self.height} and a weight of {self.weight}.\"\n",
    "\n",
    "\n",
    "\n",
    "\n",
    "# test instances for function    \n",
    "zapdos = PokemonAPI('zapdos') \n",
    "moltres = PokemonAPI('moltres')\n",
    "articuno = PokemonAPI('articuno')\n",
    "\n",
    "print(zapdos.poke_info())"
   ]
  },
  {
   "cell_type": "code",
   "execution_count": 12,
   "metadata": {},
   "outputs": [
    {
     "name": "stdout",
     "output_type": "stream",
     "text": [
      "Enter a pokemon name or type Quit:\n",
      " lucario\n",
      "Lucario has a height of 12 and a weight of 540.\n",
      "Enter a pokemon name or type Quit:\n",
      " jolteon\n",
      "Jolteon has a height of 8 and a weight of 245.\n",
      "Enter a pokemon name or type Quit:\n",
      " quit\n"
     ]
    }
   ],
   "source": [
    "def pokemon_hw():\n",
    "    pkname = input(\"Enter a pokemon name or type Quit:\\n \").lower()\n",
    "    while pkname != 'quit':\n",
    "        pokemon = PokemonAPI(pkname)\n",
    "        pkn = pokemon.poke_info()\n",
    "        print(pkn)\n",
    "        pkname = input(\"Enter a pokemon name or type Quit:\\n \").lower()\n",
    "        \n",
    "        \n",
    "        \n",
    "pokemon_hw()"
   ]
  },
  {
   "cell_type": "code",
   "execution_count": null,
   "metadata": {},
   "outputs": [],
   "source": []
  },
  {
   "cell_type": "code",
   "execution_count": null,
   "metadata": {},
   "outputs": [],
   "source": []
  }
 ],
 "metadata": {
  "kernelspec": {
   "display_name": "Python 3 (ipykernel)",
   "language": "python",
   "name": "python3"
  },
  "language_info": {
   "codemirror_mode": {
    "name": "ipython",
    "version": 3
   },
   "file_extension": ".py",
   "mimetype": "text/x-python",
   "name": "python",
   "nbconvert_exporter": "python",
   "pygments_lexer": "ipython3",
   "version": "3.9.13"
  }
 },
 "nbformat": 4,
 "nbformat_minor": 4
}
